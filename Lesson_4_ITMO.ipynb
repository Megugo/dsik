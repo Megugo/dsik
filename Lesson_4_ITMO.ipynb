{
 "cells": [
  {
   "cell_type": "markdown",
   "metadata": {
    "collapsed": true
   },
   "source": [
    "# Занятие 4. Задача классификации"
   ]
  },
  {
   "attachments": {
    "%D0%9A%D0%BB%D0%B0%D1%81%D1%81%D0%B8%D1%84%D0%B8%D0%BA%D0%B0%D1%86%D0%B8%D1%8F.PNG": {
     "image/png": "[encoded data removed]"
    }
   },
   "cell_type": "markdown",
   "metadata": {},
   "source": [
    "![%D0%9A%D0%BB%D0%B0%D1%81%D1%81%D0%B8%D1%84%D0%B8%D0%BA%D0%B0%D1%86%D0%B8%D1%8F.PNG](attachment:%D0%9A%D0%BB%D0%B0%D1%81%D1%81%D0%B8%D1%84%D0%B8%D0%BA%D0%B0%D1%86%D0%B8%D1%8F.PNG)"
   ]
  },
  {
   "cell_type": "markdown",
   "metadata": {},
   "source": [
    "## Постановка задачи"
   ]
  },
  {
   "cell_type": "markdown",
   "metadata": {},
   "source": [
    "**Задача классификации** — задача, в которой имеется множество объектов (ситуаций), разделенных некоторым образом на классы. Задано конечное множество объектов, для которых известно, к каким классам они относятся. \n",
    "\n",
    "**Что тогда классифицировать?** <br>\n",
    "Нужно придумать правило для классификации новых наблюдений."
   ]
  },
  {
   "cell_type": "markdown",
   "metadata": {},
   "source": [
    "**Вход модели**: Обучающая выборка (признаки + известные классы)\n",
    "    \n",
    "**Выход модели**: Классификатор (алгоритм для новых наблюдений)"
   ]
  },
  {
   "cell_type": "markdown",
   "metadata": {},
   "source": [
    "**Типы классификации**\n",
    "\n",
    "* Двухклассовая (бинарная) классификация. Наиболее простой в техническом отношении случай, который служит основой для решения более сложных задач. \n",
    "* Многоклассовая классификация. Когда число классов достигает многих тысяч (например, при распознавании иероглифов или слитной речи), задача классификации становится существенно более трудной."
   ]
  },
  {
   "cell_type": "markdown",
   "metadata": {},
   "source": [
    "## Общий алгоритм решения задачи"
   ]
  },
  {
   "cell_type": "markdown",
   "metadata": {},
   "source": [
    "1. Выбор метода моделирования\n",
    "2. Выбор метрики оценки качества модели\n",
    "3. Подгонка, обучение модели (расчет параметров)\n",
    "4. Анализ точности и значимости результата"
   ]
  },
  {
   "cell_type": "markdown",
   "metadata": {},
   "source": [
    "Обучение модели в общем виде выглядит так:\n",
    "![Обучение](Fitted.png)"
   ]
  },
  {
   "cell_type": "markdown",
   "metadata": {},
   "source": [
    "## Методы решения"
   ]
  },
  {
   "cell_type": "markdown",
   "metadata": {},
   "source": [
    "К числу распространенных методов решения задачи классификации относятся:\n",
    "\n",
    "* логистическая регрессия\n",
    "* деревья решений\n",
    "* ансамбли моделей\n",
    "* нейронные сети\n",
    "* и пр."
   ]
  },
  {
   "cell_type": "markdown",
   "metadata": {},
   "source": [
    "## Метрики качества"
   ]
  },
  {
   "cell_type": "markdown",
   "metadata": {},
   "source": [
    "### Accuracy\n",
    "\n",
    "- Accuracy - доля объектов, в которых предсказанный класс совпал с реальным\n",
    "- Можно интерпретировать как вероятность правильно предсказать класс на случайно выбранном объекте\n",
    "- Не репрезентативна при несбалансированных классах\n",
    "\n",
    "$Accuracy = \\frac{P}{N}$\n",
    "\n",
    "$P$  – количество элементов, по которым классификатор принял правильное решение, <br>\n",
    "$N$ – размер обучающей выборки."
   ]
  },
  {
   "cell_type": "markdown",
   "metadata": {},
   "source": [
    "### Confusion matrix\n",
    "\n",
    "![Confusion matrix](https://www.machinelearningmastery.ru/img/0-31734-437976.png)\n",
    "\n",
    "* TP  — истино-положительное решение\n",
    "* TN — истино-отрицательное решение\n",
    "* FP — ложно-положительное решение\n",
    "* FN — ложно-отрицательное решение"
   ]
  },
  {
   "cell_type": "markdown",
   "metadata": {},
   "source": [
    "### Precision (точность)\n",
    "\n",
    "- Precision - количество правильно предсказанных объектов класса деленное на количество  объектов, которым этот класс был предсказан\n",
    "\n",
    "- Можно интепретировать как вероятность того, что объект, отнесенный моделью к классу, окажется объектом этого класса.\n",
    "\n",
    "$Precision = \\frac{TP}{TP+FP}$"
   ]
  },
  {
   "cell_type": "markdown",
   "metadata": {},
   "source": [
    "### Recall (полнота)\n",
    "\n",
    "- Recall - количество правильно предсказанных объектов класса деленное на количество  объектов этого класса\n",
    "\n",
    "- Можно интепретировать как вероятность того, что объект  класса будет отнесен моделью к этому классу\n",
    "\n",
    "$Recall = \\frac{TP}{TP+FN}$"
   ]
  },
  {
   "cell_type": "markdown",
   "metadata": {},
   "source": [
    "### F-мера\n",
    "\n",
    "- $f$ мера - способ скомбинировать recall и precision в одну метрику\n",
    "\n",
    "- $f_1 = \\frac{2~precsion~х~recall}{precision~+~recall}$\n",
    "\n",
    "- Имеет обобщение для учёта важности precision и recall $f_{\\beta} = \\frac{(1+\\beta^2)~precsion~х~recall}{\\beta^2 precision~+~recall}$ \n",
    "\n",
    "$0<\\beta<1$ - предпочтение отдается точности (Precision)\n",
    "\n",
    "$\\beta >1$ - больший вес преобретает полнота (Recall)"
   ]
  },
  {
   "cell_type": "markdown",
   "metadata": {},
   "source": [
    "### Classification report\n",
    "\n",
    "Быстрый способ посмотреть сразу на все эти метрики \n",
    "\n",
    "support - количество объектов данного класса\n",
    "\n",
    "![Classification report](https://i.stack.imgur.com/LIWH1.jpg)"
   ]
  },
  {
   "cell_type": "markdown",
   "metadata": {},
   "source": [
    "## Метрики качества оценки принадлежности"
   ]
  },
  {
   "cell_type": "markdown",
   "metadata": {},
   "source": [
    "###  PR curve и PR-AUC\n",
    "\n",
    "- $Precision = \\frac{TP}{TP+FP}$\n",
    "- $Recall = \\frac{TP}{TP+FN}$\n",
    "\n",
    "PR кривая - это набор точек $(P, R)$, полученный варьированием порога\n",
    "PR-AUC - Площадь под PR-кривой"
   ]
  },
  {
   "cell_type": "markdown",
   "metadata": {},
   "source": [
    "### ROC curve и ROC-AUC\n",
    "\n",
    "- TPR - True Positive Rate - $\\frac{TP}{TP + FN}$\n",
    "\n",
    "- FPR - False Positive Rate - $\\frac{FP}{FP + TN}$\n",
    "\n",
    "ROC кривая - это набор точек $(FPR, TPR)$, полученный варьированием порога\n",
    "\n",
    "ROC-AUC - Площадь под ROC-кривой"
   ]
  },
  {
   "cell_type": "markdown",
   "metadata": {},
   "source": [
    "## Переобучение"
   ]
  },
  {
   "cell_type": "markdown",
   "metadata": {},
   "source": [
    "**Как бороться с переобучением?**\n"
   ]
  },
  {
   "cell_type": "markdown",
   "metadata": {},
   "source": [
    "![TrainTestCV](TrainTestCV.png)"
   ]
  },
  {
   "cell_type": "markdown",
   "metadata": {},
   "source": [
    "## Логистическая регрессия"
   ]
  },
  {
   "cell_type": "markdown",
   "metadata": {},
   "source": [
    "Хотим попробовать применить линейную модель для задачи классификации. То есть\n",
    "$$\\beta_0 + \\beta_1 x_{i1} + \\ldots + \\beta_k x_{ik} = y_i,$$\n",
    "где $X_i = (x_{i1}, \\ldots, x_{ik})$ - строка с данными, $y_i\\in\\{0, 1\\}$, $\\beta_0, \\ldots, \\beta_k$ - неизвестные коэффициенты.\n",
    "Проблема в том, что слева стоит непрерывная функция по $x$, а справа - дискретная переменная. Кроме того, при больших значениях $x$ функция слева будет гарантированно давать большие значения. Так что применить модель прямо в таком виде - плохая идея.\n",
    "\n",
    "Введём логистическую функцию (сигмоид) $\\sigma(x)=\\frac{1}{1+e^{-x}}$."
   ]
  },
  {
   "cell_type": "code",
   "execution_count": 2,
   "metadata": {},
   "outputs": [],
   "source": [
    "# Загрузим сразу все библиотеки\n",
    "\n",
    "import pandas as pd # Для работы с табличными данными\n",
    "import numpy as np # Для работы с массивами\n",
    "\n",
    "import matplotlib # Для отрисовки графиков\n",
    "import matplotlib.pyplot as plt # Для отрисовки графиков\n",
    "\n",
    "# выбор темы картинок (необязательная строчка)\n",
    "matplotlib.style.use('ggplot')\n",
    "# Эта строчка нужна для того, чтобы картинки отображались в ячейках\n",
    "%matplotlib inline"
   ]
  },
  {
   "cell_type": "code",
   "execution_count": null,
   "metadata": {},
   "outputs": [],
   "source": [
    "x = np.array(np.arange(-10, 10, 0.5))\n",
    "y = 1. / (1 + np.exp(-x))\n",
    "plt.plot(x, y)\n",
    "plt.title(u'Логистическая функция')"
   ]
  },
  {
   "cell_type": "markdown",
   "metadata": {},
   "source": [
    "Заметим, что $\\sigma: \\mathbb{R}\\rightarrow (0, 1)$."
   ]
  },
  {
   "cell_type": "markdown",
   "metadata": {},
   "source": [
    "Применим к левой части логистическую функцию и будем решать задачу в виде\n",
    "$$\\sigma\\left(\\beta_0 + \\beta_1 x_{i1} + \\ldots + \\beta_k x_{ik}\\right) = y_i.$$\n",
    "\n",
    "Теперь слева у нас всегда будут получаться значения из $(0, 1)$, и это можно интерпретировать как вероятности принадлежности классу: если меньше 0.5, то класс 0, иначе - класс 1.\n",
    "\n",
    "Но теперь у нас пропадает аналитическое решение, которое было для линейной регрессии. Теперь придётся решать задачу оптимизации. Градиентный спуск (или другие методы) в помощь!"
   ]
  },
  {
   "cell_type": "markdown",
   "metadata": {},
   "source": [
    "Логистическая модель в sklearn реализована в классе ```LogisticRegression``` библиотеки ```linear_model```."
   ]
  },
  {
   "cell_type": "markdown",
   "metadata": {},
   "source": [
    "## Кейс \"Кредитный скоринг\""
   ]
  },
  {
   "cell_type": "markdown",
   "metadata": {},
   "source": [
    "### Описание данных"
   ]
  },
  {
   "cell_type": "markdown",
   "metadata": {},
   "source": [
    "Рассмотрим задачу кредитного скоринга, рассматривая ее как задачу классификации.\n",
    "\n",
    "У нас имеются исторические данные о выдаче кредита, в которых есть следующие столбцы:\n",
    "* кредит - вернул ли клиент кредит (да/нет), \n",
    "* проф - класс профессии (упорядоченный с точки зрения платежеспособности),\n",
    "* тип\\_выд\\_зп - способ выдачи зарплаты (ежемесячно или еженедельно),\n",
    "* взр\\_сег - возраст разбитый по сегментам,\n",
    "* кр\\_карта - есть или нет кредитная карта."
   ]
  },
  {
   "cell_type": "markdown",
   "metadata": {},
   "source": [
    "### Постановка задачи"
   ]
  },
  {
   "cell_type": "markdown",
   "metadata": {},
   "source": [
    "Необходимо построить классификатор, который для каждого нового клиента будет давать рекомендацию по выдаче ему кредита (выдавать или не выдавать). Использовать логистическую регрессию."
   ]
  },
  {
   "cell_type": "markdown",
   "metadata": {},
   "source": [
    "### Загрузка данных и их обработка"
   ]
  },
  {
   "cell_type": "markdown",
   "metadata": {},
   "source": [
    "Перед загрузкой данных импортируем нужные библиотеки:"
   ]
  },
  {
   "cell_type": "code",
   "execution_count": null,
   "metadata": {},
   "outputs": [],
   "source": [
    "# import pandas as pd # Для работы с табличными данными\n",
    "\n",
    "# import matplotlib # Для отрисовки графиков\n",
    "# import matplotlib.pyplot as plt # Для отрисовки графиков\n",
    "\n",
    "# # выбор темы картинок (необязательная строчка)\n",
    "# matplotlib.style.use('ggplot')\n",
    "# # Эта строчка нужна для того, чтобы картинки отображались в ячейках\n",
    "# %matplotlib inline"
   ]
  },
  {
   "cell_type": "markdown",
   "metadata": {},
   "source": [
    "Загрузим данные в переменную df_credit:"
   ]
  },
  {
   "cell_type": "markdown",
   "metadata": {
    "scrolled": true
   },
   "source": [
    "В строчке выше использовали метод .read_csv(), который позволяет считывать данные в формат DataFrame.\n",
    "Атрибуты, которые мы использовали:\n",
    "    \n",
    "* sep = ';' - указали какой разделитель в файле;\n",
    "* encoding = 'cp1251' - для корректного отображения кириллицы."
   ]
  },
  {
   "cell_type": "code",
   "execution_count": 3,
   "metadata": {
    "scrolled": true
   },
   "outputs": [
    {
     "data": {
      "text/html": [
       "<div>\n",
       "<style scoped>\n",
       "    .dataframe tbody tr th:only-of-type {\n",
       "        vertical-align: middle;\n",
       "    }\n",
       "\n",
       "    .dataframe tbody tr th {\n",
       "        vertical-align: top;\n",
       "    }\n",
       "\n",
       "    .dataframe thead th {\n",
       "        text-align: right;\n",
       "    }\n",
       "</style>\n",
       "<table border=\"1\" class=\"dataframe\">\n",
       "  <thead>\n",
       "    <tr style=\"text-align: right;\">\n",
       "      <th></th>\n",
       "      <th>кредит</th>\n",
       "      <th>проф</th>\n",
       "      <th>тип_выд_зп</th>\n",
       "      <th>взр_сег</th>\n",
       "      <th>кр_карта</th>\n",
       "    </tr>\n",
       "  </thead>\n",
       "  <tbody>\n",
       "    <tr>\n",
       "      <th>0</th>\n",
       "      <td>1</td>\n",
       "      <td>2</td>\n",
       "      <td>2</td>\n",
       "      <td>2</td>\n",
       "      <td>1</td>\n",
       "    </tr>\n",
       "    <tr>\n",
       "      <th>1</th>\n",
       "      <td>0</td>\n",
       "      <td>2</td>\n",
       "      <td>1</td>\n",
       "      <td>2</td>\n",
       "      <td>0</td>\n",
       "    </tr>\n",
       "    <tr>\n",
       "      <th>2</th>\n",
       "      <td>0</td>\n",
       "      <td>4</td>\n",
       "      <td>1</td>\n",
       "      <td>1</td>\n",
       "      <td>1</td>\n",
       "    </tr>\n",
       "    <tr>\n",
       "      <th>3</th>\n",
       "      <td>1</td>\n",
       "      <td>2</td>\n",
       "      <td>2</td>\n",
       "      <td>2</td>\n",
       "      <td>0</td>\n",
       "    </tr>\n",
       "    <tr>\n",
       "      <th>4</th>\n",
       "      <td>1</td>\n",
       "      <td>3</td>\n",
       "      <td>2</td>\n",
       "      <td>1</td>\n",
       "      <td>0</td>\n",
       "    </tr>\n",
       "  </tbody>\n",
       "</table>\n",
       "</div>"
      ],
      "text/plain": [
       "   кредит  проф  тип_выд_зп  взр_сег  кр_карта\n",
       "0       1     2           2        2         1\n",
       "1       0     2           1        2         0\n",
       "2       0     4           1        1         1\n",
       "3       1     2           2        2         0\n",
       "4       1     3           2        1         0"
      ]
     },
     "execution_count": 3,
     "metadata": {},
     "output_type": "execute_result"
    }
   ],
   "source": [
    "df_credit = pd.read_csv('credit.csv', sep = ';', encoding = 'cp1251')\n",
    "df_credit.head()"
   ]
  },
  {
   "cell_type": "code",
   "execution_count": null,
   "metadata": {},
   "outputs": [],
   "source": [
    "df_credit.tail()"
   ]
  },
  {
   "cell_type": "code",
   "execution_count": null,
   "metadata": {},
   "outputs": [],
   "source": [
    "df_credit.shape"
   ]
  },
  {
   "cell_type": "code",
   "execution_count": null,
   "metadata": {
    "scrolled": false
   },
   "outputs": [],
   "source": [
    "df_credit.info()"
   ]
  },
  {
   "cell_type": "code",
   "execution_count": null,
   "metadata": {},
   "outputs": [],
   "source": [
    "df_credit.describe()"
   ]
  },
  {
   "cell_type": "markdown",
   "metadata": {},
   "source": [
    "### Построение модели"
   ]
  },
  {
   "cell_type": "markdown",
   "metadata": {},
   "source": [
    "Отделим в имеющихся данных правильный ответ (вернул ли клиент кредит) от факторов, которые влияют на наше решение (класс профессии, з/п, возраст, наличие кредитной карты):"
   ]
  },
  {
   "cell_type": "code",
   "execution_count": null,
   "metadata": {},
   "outputs": [],
   "source": [
    "# Правильный ответ записываем в вектор y (вернул ли клиент кредит)\n",
    "y = df_credit['кредит']\n",
    "# Удаляем колонку с правильным ответом - оставшиеся колонки - это факторы\n",
    "X = df_credit.drop('кредит', axis = 1) # Удаляем столбец"
   ]
  },
  {
   "cell_type": "code",
   "execution_count": null,
   "metadata": {
    "scrolled": false
   },
   "outputs": [],
   "source": [
    "X.head() "
   ]
  },
  {
   "cell_type": "code",
   "execution_count": null,
   "metadata": {
    "scrolled": false
   },
   "outputs": [],
   "source": [
    "y.head()"
   ]
  },
  {
   "cell_type": "markdown",
   "metadata": {},
   "source": [
    "Чтобы избежать переобучения и чтобы была возможность оценки точности построенной модели, разделим наши данные на тренировочную (обучающую) и тестовую выборку:"
   ]
  },
  {
   "cell_type": "code",
   "execution_count": null,
   "metadata": {},
   "outputs": [],
   "source": [
    "from sklearn.model_selection import train_test_split\n",
    "X_train, X_test, y_train, y_test = train_test_split(X, y, random_state = 42, test_size = 0.2)\n",
    "# random_state = 42 - для воспроизводимости результатов на разных компьютерах (деление происходит случайным образом)\n",
    "# test_size = 0.2 - объем тестовой выборки"
   ]
  },
  {
   "cell_type": "code",
   "execution_count": null,
   "metadata": {
    "scrolled": true
   },
   "outputs": [],
   "source": [
    "y_test.head()"
   ]
  },
  {
   "cell_type": "code",
   "execution_count": null,
   "metadata": {
    "scrolled": true
   },
   "outputs": [],
   "source": [
    "X_test.head()"
   ]
  },
  {
   "cell_type": "code",
   "execution_count": null,
   "metadata": {},
   "outputs": [],
   "source": [
    "y_train.tail()"
   ]
  },
  {
   "cell_type": "code",
   "execution_count": null,
   "metadata": {
    "scrolled": true
   },
   "outputs": [],
   "source": [
    "X_train.tail()"
   ]
  },
  {
   "cell_type": "markdown",
   "metadata": {},
   "source": [
    "Поставленную задачу решим с помощью логистической регрессии.\n",
    "\n",
    "Документация здесь:\n",
    "https://scikit-learn.org/stable/modules/generated/sklearn.linear_model.LogisticRegression.html"
   ]
  },
  {
   "cell_type": "code",
   "execution_count": null,
   "metadata": {},
   "outputs": [],
   "source": [
    "from sklearn.linear_model import LogisticRegression\n",
    "model_lg = LogisticRegression(\n",
    "    # метод для поиска решения. Для небольших датасетов лучше подходит liblinear, sag и saga - для больших.\n",
    "    # Варианты: newton-cg, lbfgs, liblinear, sag, saga\n",
    "    solver = 'liblinear',\n",
    "    # норма для регуляризации. Варианты: 'l1', 'l2', 'elasticnet', 'none'\n",
    "    penalty = 'l2',\n",
    "    # параметр регуляризации. Чем меньше, тем сильнее регуляризация. Положительный.\n",
    "    C = 1,\n",
    "    # параметр для остановки поиска решения.\n",
    "    tol = 1e-4,\n",
    "    # Опция для задачи мультиклассификации, когда есть несколько классов.\n",
    "    multi_class = 'ovr'\n",
    "    )"
   ]
  },
  {
   "cell_type": "code",
   "execution_count": null,
   "metadata": {},
   "outputs": [],
   "source": [
    "model_lg.fit(X_train, y_train)"
   ]
  },
  {
   "cell_type": "code",
   "execution_count": null,
   "metadata": {},
   "outputs": [],
   "source": [
    "y_pred_lg = model_lg.predict(X_test)"
   ]
  },
  {
   "cell_type": "code",
   "execution_count": null,
   "metadata": {},
   "outputs": [],
   "source": [
    "pd.DataFrame({'Реальные значения': y_test, 'Предсказанные значения': y_pred_lg }).head(10)"
   ]
  },
  {
   "cell_type": "code",
   "execution_count": null,
   "metadata": {},
   "outputs": [],
   "source": [
    "from sklearn import metrics\n",
    "print(metrics.classification_report(y_test, y_pred_lg))"
   ]
  },
  {
   "cell_type": "code",
   "execution_count": null,
   "metadata": {},
   "outputs": [],
   "source": [
    "model_lg.coef_"
   ]
  },
  {
   "cell_type": "code",
   "execution_count": null,
   "metadata": {},
   "outputs": [],
   "source": [
    "model_lg.intercept_ "
   ]
  },
  {
   "cell_type": "code",
   "execution_count": null,
   "metadata": {},
   "outputs": [],
   "source": [
    "new_item = [2, 2, 4, 1]\n",
    "model_lg.predict([new_item])"
   ]
  },
  {
   "cell_type": "markdown",
   "metadata": {},
   "source": [
    "## Дерево решений"
   ]
  },
  {
   "cell_type": "markdown",
   "metadata": {},
   "source": [
    "**Пример дерева:**\n",
    "    \n",
    "![Дерево](https://loginom.ru/sites/default/files/blogpost-files/activation-function.svg)"
   ]
  },
  {
   "cell_type": "markdown",
   "metadata": {},
   "source": [
    "**Задача**: хотим научиться предсказывать страховать ли авто.\n",
    "\n",
    "Есть **два класса**: страховать, не страховать\n",
    "\n",
    "В каждой внутренней вершине записано **условие перехода** к следующей вершине.\n",
    "\n",
    "В каждом **листе** записан прогноз (класс).\n",
    "\n",
    "**Условия** – находится ли значение некоторого признака i левее, чем некоторый порог t? Если меньше порога – идем влево, больше порога – идем вправо.\n",
    "\n",
    "Выбираем **критерий i и порог t** так, чтобы взвешенный разброс ответов в каждом поддереве был минимальным. Математически это определяет:\n",
    "\n",
    "* Критерий Джинни: $H(X) = \\sum_{k=1}^K p_k\\cdot (1 - p_k)$\n",
    "* Энтропийный критерий: $H(X) = -\\sum_{k=1}^K p_k\\cdot ln{p_k}$\n",
    "\n",
    "где $p_k$ - доля $k$-ого объекта\n",
    "\n",
    "**Прогноз** – наиболее популярный (часто встречающийся) ответ в листе.\n",
    "\n",
    "**Критерий останова:**\n",
    "\n",
    "* В вершину попало ≤ n объектов (рекомендация: n = 5). Если n = 1 – переобучение.\n",
    "* Задать ограничение на глубину дерева (применяется в ансамблях моделей)."
   ]
  },
  {
   "cell_type": "markdown",
   "metadata": {},
   "source": [
    "**Плюсы метода**:\n",
    "\tБыстрое построение модели, легкая интерпретация\n",
    "\n",
    "**Минусы метода**:\n",
    "\tНизкая точность"
   ]
  },
  {
   "cell_type": "markdown",
   "metadata": {},
   "source": [
    "Деревья решений могут быть использованы для **оценки важности переменных** при классификации. \n",
    "\n",
    "Во время процесса построения модели для каждого элемента тренировочного набора определяется out-of-bag-ошибка (ошибка на неотобранных образцах). Затем такая ошибка усредняется по всему случайному лесу для каждого фактора."
   ]
  },
  {
   "cell_type": "markdown",
   "metadata": {},
   "source": [
    "## Кейс \"Кредитный скоринг\" (продолжение)"
   ]
  },
  {
   "cell_type": "markdown",
   "metadata": {},
   "source": [
    "### Описание данных"
   ]
  },
  {
   "cell_type": "markdown",
   "metadata": {},
   "source": [
    "Данные те же."
   ]
  },
  {
   "cell_type": "markdown",
   "metadata": {},
   "source": [
    "### Постановка задачи"
   ]
  },
  {
   "cell_type": "markdown",
   "metadata": {},
   "source": [
    "Необходимо построить классификатор, который для каждого нового клиента будет давать рекомендацию по выдаче ему кредита (выдавать или не выдавать). Использовать дерево решений."
   ]
  },
  {
   "cell_type": "markdown",
   "metadata": {},
   "source": [
    "### Загрузка данных и их обработка"
   ]
  },
  {
   "cell_type": "markdown",
   "metadata": {},
   "source": [
    "Перед загрузкой данных импортируем нужные библиотеки:"
   ]
  },
  {
   "cell_type": "code",
   "execution_count": null,
   "metadata": {},
   "outputs": [],
   "source": [
    "# import pandas as pd # Для работы с табличными данными\n",
    "\n",
    "# import matplotlib # Для отрисовки графиков\n",
    "# import matplotlib.pyplot as plt # Для отрисовки графиков\n",
    "\n",
    "# # выбор темы картинок (необязательная строчка)\n",
    "# matplotlib.style.use('ggplot')\n",
    "# # Эта строчка нужна для того, чтобы картинки отображались в ячейках\n",
    "# %matplotlib inline"
   ]
  },
  {
   "cell_type": "markdown",
   "metadata": {},
   "source": [
    "Данные загружны в переменную df_credit:"
   ]
  },
  {
   "cell_type": "code",
   "execution_count": 4,
   "metadata": {
    "scrolled": true
   },
   "outputs": [
    {
     "data": {
      "text/html": [
       "<div>\n",
       "<style scoped>\n",
       "    .dataframe tbody tr th:only-of-type {\n",
       "        vertical-align: middle;\n",
       "    }\n",
       "\n",
       "    .dataframe tbody tr th {\n",
       "        vertical-align: top;\n",
       "    }\n",
       "\n",
       "    .dataframe thead th {\n",
       "        text-align: right;\n",
       "    }\n",
       "</style>\n",
       "<table border=\"1\" class=\"dataframe\">\n",
       "  <thead>\n",
       "    <tr style=\"text-align: right;\">\n",
       "      <th></th>\n",
       "      <th>кредит</th>\n",
       "      <th>проф</th>\n",
       "      <th>тип_выд_зп</th>\n",
       "      <th>взр_сег</th>\n",
       "      <th>кр_карта</th>\n",
       "    </tr>\n",
       "  </thead>\n",
       "  <tbody>\n",
       "    <tr>\n",
       "      <th>0</th>\n",
       "      <td>1</td>\n",
       "      <td>2</td>\n",
       "      <td>2</td>\n",
       "      <td>2</td>\n",
       "      <td>1</td>\n",
       "    </tr>\n",
       "    <tr>\n",
       "      <th>1</th>\n",
       "      <td>0</td>\n",
       "      <td>2</td>\n",
       "      <td>1</td>\n",
       "      <td>2</td>\n",
       "      <td>0</td>\n",
       "    </tr>\n",
       "    <tr>\n",
       "      <th>2</th>\n",
       "      <td>0</td>\n",
       "      <td>4</td>\n",
       "      <td>1</td>\n",
       "      <td>1</td>\n",
       "      <td>1</td>\n",
       "    </tr>\n",
       "    <tr>\n",
       "      <th>3</th>\n",
       "      <td>1</td>\n",
       "      <td>2</td>\n",
       "      <td>2</td>\n",
       "      <td>2</td>\n",
       "      <td>0</td>\n",
       "    </tr>\n",
       "    <tr>\n",
       "      <th>4</th>\n",
       "      <td>1</td>\n",
       "      <td>3</td>\n",
       "      <td>2</td>\n",
       "      <td>1</td>\n",
       "      <td>0</td>\n",
       "    </tr>\n",
       "  </tbody>\n",
       "</table>\n",
       "</div>"
      ],
      "text/plain": [
       "   кредит  проф  тип_выд_зп  взр_сег  кр_карта\n",
       "0       1     2           2        2         1\n",
       "1       0     2           1        2         0\n",
       "2       0     4           1        1         1\n",
       "3       1     2           2        2         0\n",
       "4       1     3           2        1         0"
      ]
     },
     "execution_count": 4,
     "metadata": {},
     "output_type": "execute_result"
    }
   ],
   "source": [
    "df_credit.head()"
   ]
  },
  {
   "cell_type": "code",
   "execution_count": 5,
   "metadata": {},
   "outputs": [
    {
     "name": "stdout",
     "output_type": "stream",
     "text": [
      "<class 'pandas.core.frame.DataFrame'>\n",
      "RangeIndex: 323 entries, 0 to 322\n",
      "Data columns (total 5 columns):\n",
      " #   Column      Non-Null Count  Dtype\n",
      "---  ------      --------------  -----\n",
      " 0   кредит      323 non-null    int64\n",
      " 1   проф        323 non-null    int64\n",
      " 2   тип_выд_зп  323 non-null    int64\n",
      " 3   взр_сег     323 non-null    int64\n",
      " 4   кр_карта    323 non-null    int64\n",
      "dtypes: int64(5)\n",
      "memory usage: 12.7 KB\n"
     ]
    }
   ],
   "source": [
    "df_credit.info()"
   ]
  },
  {
   "cell_type": "markdown",
   "metadata": {},
   "source": [
    "### Построение модели"
   ]
  },
  {
   "cell_type": "markdown",
   "metadata": {},
   "source": [
    "Алгоритм в общем-то тот же, что и с логистической регрессией. \n",
    "\n",
    "Отделим в имеющихся данных правильный ответ (вернул ли клиент кредит) от факторов, которые влияют на наше решение (класс профессии, з/п, возраст, наличие кредитной карты). Вообще, мы это уже сделали при логистической регрессии, но сделаем еще раз, чтобы запомнить последовательность действий:"
   ]
  },
  {
   "cell_type": "code",
   "execution_count": 6,
   "metadata": {},
   "outputs": [],
   "source": [
    "# Правильный ответ записываем в вектор y (вернул ли клиент кредит)\n",
    "y = df_credit['кредит']\n",
    "# Удаляем колонку с правильным ответом - оставшиеся колонки - это факторы\n",
    "X = df_credit.drop('кредит', axis = 1) # Удаляем столбец"
   ]
  },
  {
   "cell_type": "code",
   "execution_count": 7,
   "metadata": {
    "scrolled": false
   },
   "outputs": [
    {
     "data": {
      "text/html": [
       "<div>\n",
       "<style scoped>\n",
       "    .dataframe tbody tr th:only-of-type {\n",
       "        vertical-align: middle;\n",
       "    }\n",
       "\n",
       "    .dataframe tbody tr th {\n",
       "        vertical-align: top;\n",
       "    }\n",
       "\n",
       "    .dataframe thead th {\n",
       "        text-align: right;\n",
       "    }\n",
       "</style>\n",
       "<table border=\"1\" class=\"dataframe\">\n",
       "  <thead>\n",
       "    <tr style=\"text-align: right;\">\n",
       "      <th></th>\n",
       "      <th>проф</th>\n",
       "      <th>тип_выд_зп</th>\n",
       "      <th>взр_сег</th>\n",
       "      <th>кр_карта</th>\n",
       "    </tr>\n",
       "  </thead>\n",
       "  <tbody>\n",
       "    <tr>\n",
       "      <th>0</th>\n",
       "      <td>2</td>\n",
       "      <td>2</td>\n",
       "      <td>2</td>\n",
       "      <td>1</td>\n",
       "    </tr>\n",
       "    <tr>\n",
       "      <th>1</th>\n",
       "      <td>2</td>\n",
       "      <td>1</td>\n",
       "      <td>2</td>\n",
       "      <td>0</td>\n",
       "    </tr>\n",
       "    <tr>\n",
       "      <th>2</th>\n",
       "      <td>4</td>\n",
       "      <td>1</td>\n",
       "      <td>1</td>\n",
       "      <td>1</td>\n",
       "    </tr>\n",
       "    <tr>\n",
       "      <th>3</th>\n",
       "      <td>2</td>\n",
       "      <td>2</td>\n",
       "      <td>2</td>\n",
       "      <td>0</td>\n",
       "    </tr>\n",
       "    <tr>\n",
       "      <th>4</th>\n",
       "      <td>3</td>\n",
       "      <td>2</td>\n",
       "      <td>1</td>\n",
       "      <td>0</td>\n",
       "    </tr>\n",
       "  </tbody>\n",
       "</table>\n",
       "</div>"
      ],
      "text/plain": [
       "   проф  тип_выд_зп  взр_сег  кр_карта\n",
       "0     2           2        2         1\n",
       "1     2           1        2         0\n",
       "2     4           1        1         1\n",
       "3     2           2        2         0\n",
       "4     3           2        1         0"
      ]
     },
     "execution_count": 7,
     "metadata": {},
     "output_type": "execute_result"
    }
   ],
   "source": [
    "X.head() "
   ]
  },
  {
   "cell_type": "code",
   "execution_count": 8,
   "metadata": {
    "scrolled": false
   },
   "outputs": [
    {
     "data": {
      "text/plain": [
       "0    1\n",
       "1    0\n",
       "2    0\n",
       "3    1\n",
       "4    1\n",
       "Name: кредит, dtype: int64"
      ]
     },
     "execution_count": 8,
     "metadata": {},
     "output_type": "execute_result"
    }
   ],
   "source": [
    "y.head()"
   ]
  },
  {
   "cell_type": "markdown",
   "metadata": {},
   "source": [
    "Чтобы избежать переобучения и чтобы была возможность оценки точности построенной модели, разделим наши данные на тренировочную (обучающую) и тестовую выборку:"
   ]
  },
  {
   "cell_type": "code",
   "execution_count": null,
   "metadata": {},
   "outputs": [],
   "source": [
    "from sklearn.model_selection import train_test_split\n",
    "X_train, X_test, y_train, y_test = train_test_split(X, y, random_state = 42, test_size = 0.2)\n",
    "# random_state = 42 - для воспроизводимости результатов на разных компьютерах (деление происходит случайным образом)\n",
    "# test_size = 0.2 - объем тестовой выборки"
   ]
  },
  {
   "cell_type": "code",
   "execution_count": null,
   "metadata": {
    "scrolled": true
   },
   "outputs": [],
   "source": [
    "y_test.head()"
   ]
  },
  {
   "cell_type": "code",
   "execution_count": null,
   "metadata": {
    "scrolled": true
   },
   "outputs": [],
   "source": [
    "X_test.head()"
   ]
  },
  {
   "cell_type": "code",
   "execution_count": null,
   "metadata": {},
   "outputs": [],
   "source": [
    "y_train.tail()"
   ]
  },
  {
   "cell_type": "code",
   "execution_count": null,
   "metadata": {
    "scrolled": true
   },
   "outputs": [],
   "source": [
    "X_train.tail()"
   ]
  },
  {
   "cell_type": "markdown",
   "metadata": {},
   "source": [
    "Поставленную задачу решим с помощью дерева решений.\n",
    "\n",
    "Документация здесь: https://scikit-learn.org/stable/modules/generated/sklearn.tree.DecisionTreeClassifier.html"
   ]
  },
  {
   "cell_type": "code",
   "execution_count": null,
   "metadata": {
    "scrolled": true
   },
   "outputs": [],
   "source": [
    "from sklearn.tree import DecisionTreeClassifier # Импортируем метод\n",
    "\n",
    "# Инициализируем модель\n",
    "model_dt = DecisionTreeClassifier(random_state = 42, criterion = 'gini', max_depth = 3, min_samples_leaf = 5)\n",
    "\n",
    "# random_state = 42, для воспроизводимости результатов \n",
    "# criterion = 'gini', критерий разбиения ('gini' или 'entropy')\n",
    "# max_depth = 3, максимальная глубина дерева\n",
    "# min_samples_leaf = 5, минимальное число элементов в листе (может быть долей)\n",
    "\n",
    "# Обучаем модель\n",
    "model_dt.fit(X_train, y_train)"
   ]
  },
  {
   "cell_type": "markdown",
   "metadata": {},
   "source": [
    "Для интерпретации получившейся модели удобно изобразить её в виде дерева решающих правил. Для этого в ```sklearn.tree``` предусмотрена функция ```export_graphviz```. Однако неудобство её в том, что она выдаёт результат в виде файла векторной графики ```.dot```, который нужно дополнительно преобразовать в привычный формат (например, в ```.png```)."
   ]
  },
  {
   "cell_type": "code",
   "execution_count": null,
   "metadata": {},
   "outputs": [],
   "source": [
    "from sklearn import tree\n",
    "from sklearn.tree import export_graphviz\n",
    "from graphviz import Source"
   ]
  },
  {
   "cell_type": "code",
   "execution_count": null,
   "metadata": {},
   "outputs": [],
   "source": [
    "# pip install graphviz\n",
    "# conda install graphviz"
   ]
  },
  {
   "cell_type": "code",
   "execution_count": null,
   "metadata": {
    "scrolled": false
   },
   "outputs": [],
   "source": [
    "graph = Source(tree.export_graphviz(model_dt, proportion = True, filled = True, impurity = True, node_ids = True, precision = 1, feature_names = X.columns))\n",
    "graph\n",
    "\n",
    "# proportion = True - Показывать доли каждого класса в узлах (а не количество)\n",
    "# filled = True - раскрашивать узлы в цвет преобладающего класса\n",
    "# impurity = True - показывать значение impurity для каждого узла (gini)\n",
    "# node_ids = True - показывать номера узлов\n",
    "# precision = 1 - Число точек после запятой для отображаемых дробей\n",
    "# feature_names = X.columns - задать названия факторов\n",
    "# rotate = True - Повернуть дерево на 90 градусов (вертикальная ориентация)"
   ]
  },
  {
   "cell_type": "code",
   "execution_count": null,
   "metadata": {},
   "outputs": [],
   "source": [
    "# # Сохраняем дерево в формате .png\n",
    "# png_bytes = graph.pipe(format='png')\n",
    "# with open('tree.png','wb') as f:\n",
    "#     f.write(png_bytes)"
   ]
  },
  {
   "cell_type": "code",
   "execution_count": null,
   "metadata": {},
   "outputs": [],
   "source": [
    "tree.export_graphviz(model_dt, 'tree.dot', proportion = True, filled = True, impurity = True, node_ids = True, precision = 1, feature_names = X.columns)"
   ]
  },
  {
   "cell_type": "markdown",
   "metadata": {},
   "source": [
    "Модель позволяет оценить ценность каждого фактора в смысле её эффективности для разбиения (Gini importance):"
   ]
  },
  {
   "cell_type": "code",
   "execution_count": null,
   "metadata": {
    "scrolled": false
   },
   "outputs": [],
   "source": [
    "pd.DataFrame({'feature': X.columns,\n",
    "              'importance': model_dt.feature_importances_}).sort_values('importance', ascending = False)"
   ]
  },
  {
   "cell_type": "code",
   "execution_count": null,
   "metadata": {
    "scrolled": true
   },
   "outputs": [],
   "source": [
    "# Отображение ценности в графическом виде\n",
    "pd.Series(model_dt.feature_importances_, index = X.columns).nlargest(4).plot(kind='barh');"
   ]
  },
  {
   "cell_type": "code",
   "execution_count": null,
   "metadata": {},
   "outputs": [],
   "source": [
    "X_test.head()"
   ]
  },
  {
   "cell_type": "markdown",
   "metadata": {},
   "source": [
    "У данной модели также реализован метод predict, который позволяет получить предсказания классов для входного списка элементов, представленных в пространстве тех же самых признаков (то есть подаём на вход матрицу)."
   ]
  },
  {
   "cell_type": "code",
   "execution_count": null,
   "metadata": {},
   "outputs": [],
   "source": [
    "# Строим предсказание модели на тестовом множестве\n",
    "y_pred_dt = model_dt.predict(X_test)"
   ]
  },
  {
   "cell_type": "code",
   "execution_count": null,
   "metadata": {
    "scrolled": true
   },
   "outputs": [],
   "source": [
    "pd.DataFrame({'Реальные значения': y_test, 'Предсказанные значения': y_pred_dt}).head(10)"
   ]
  },
  {
   "cell_type": "markdown",
   "metadata": {},
   "source": [
    "Не забываем про оценку качества:"
   ]
  },
  {
   "cell_type": "code",
   "execution_count": null,
   "metadata": {},
   "outputs": [],
   "source": [
    "from sklearn import metrics\n",
    "print(metrics.classification_report(y_test, y_pred_dt))"
   ]
  },
  {
   "cell_type": "code",
   "execution_count": null,
   "metadata": {
    "scrolled": false
   },
   "outputs": [],
   "source": [
    "# Предсказание класса для новых элементов\n",
    "new_item = [2, 2, 4, 1]\n",
    "model_dt.predict([new_item])"
   ]
  },
  {
   "cell_type": "markdown",
   "metadata": {},
   "source": [
    "## Случайный лес"
   ]
  },
  {
   "cell_type": "markdown",
   "metadata": {},
   "source": [
    "**Деревья решений** - хороший инструмент, поскольку позволяет очень просто интерпретировать полученные результаты. Однако не всегда полученная точность модели удовлетворяет исследователя.\n",
    "\n",
    "В таком случае,задачу можно решить более эффективным (с точки зрения показателей точности) методом - Random forest.\n",
    "\n",
    "**Random forest** (Случайный лес) — метод, в основе которого лежит использование комитета (ансамбля) деревьев принятия решений. "
   ]
  },
  {
   "cell_type": "markdown",
   "metadata": {},
   "source": [
    "**Все деревья строятся по следующей схеме**:\n",
    "\n",
    "* Берется подвыборка обучающей выборки, по ней строится дерево\n",
    "\n",
    "* Для построения каждого ветвления в дереве просматриваем набор случайных признаков\n",
    "\n",
    "* Выбираем наилучшие признак и ветвление по нему. Дерево строится до определенной высоты дерева (не всегда)\n",
    "\n",
    "![Случайный лес](https://cf2.ppt-online.org/files2/slide/f/fYVL69pzlGjN2CF7EqSwmUe1gDxAZ8TbJiKOHMXIcu/slide-26.jpg)"
   ]
  },
  {
   "cell_type": "markdown",
   "metadata": {},
   "source": [
    "**Плюсы метода**:\n",
    "\tВысокое качество результата, не требуется тестовая выборка\n",
    "\n",
    "**Минусы метода**:\n",
    "\tСложная интерпретация модели"
   ]
  },
  {
   "cell_type": "markdown",
   "metadata": {},
   "source": [
    "Случайные леса также могут быть использованы для **оценки важности переменных** при классификации. "
   ]
  },
  {
   "cell_type": "markdown",
   "metadata": {},
   "source": [
    "## Кейс \"Кредитный скоринг\" (продолжение)"
   ]
  },
  {
   "cell_type": "markdown",
   "metadata": {},
   "source": [
    "### Описание данных"
   ]
  },
  {
   "cell_type": "markdown",
   "metadata": {},
   "source": [
    "Данные те же."
   ]
  },
  {
   "cell_type": "markdown",
   "metadata": {},
   "source": [
    "### Постановка задачи"
   ]
  },
  {
   "cell_type": "markdown",
   "metadata": {},
   "source": [
    "Необходимо построить классификатор, который для каждого нового клиента будет давать рекомендацию по выдаче ему кредита (выдавать или не выдавать). Использовать случайный лес."
   ]
  },
  {
   "cell_type": "markdown",
   "metadata": {},
   "source": [
    "### Загрузка данных и их обработка"
   ]
  },
  {
   "cell_type": "markdown",
   "metadata": {},
   "source": [
    "Данные загружны в переменную df_credit:"
   ]
  },
  {
   "cell_type": "code",
   "execution_count": null,
   "metadata": {
    "scrolled": true
   },
   "outputs": [],
   "source": [
    "df_credit.head()"
   ]
  },
  {
   "cell_type": "markdown",
   "metadata": {},
   "source": [
    "### Построение модели"
   ]
  },
  {
   "cell_type": "markdown",
   "metadata": {},
   "source": [
    "В переменных X_train, X_test, y_train, y_test уже лежит то, что нам нужно."
   ]
  },
  {
   "cell_type": "markdown",
   "metadata": {},
   "source": [
    "Настроим модель случайных лесов для наших данных.\n",
    "\n",
    "Документация здесь: https://scikit-learn.org/stable/modules/generated/sklearn.ensemble.RandomForestClassifier.html"
   ]
  },
  {
   "cell_type": "code",
   "execution_count": null,
   "metadata": {},
   "outputs": [],
   "source": [
    "from sklearn.ensemble import RandomForestClassifier\n",
    "model_rf = RandomForestClassifier(random_state = 42, n_estimators = 100, criterion ='gini', max_depth = 3)\n",
    "\n",
    "# n_estimators = 100, число деревьев в лесу\n",
    "# oob_score = True, вычислять out-of-bag ошибку"
   ]
  },
  {
   "cell_type": "code",
   "execution_count": null,
   "metadata": {},
   "outputs": [],
   "source": [
    "model_rf.fit(X_train, y_train)"
   ]
  },
  {
   "cell_type": "code",
   "execution_count": null,
   "metadata": {},
   "outputs": [],
   "source": [
    "y_pred_rf = model_rf.predict(X_test)"
   ]
  },
  {
   "cell_type": "code",
   "execution_count": null,
   "metadata": {},
   "outputs": [],
   "source": [
    "pd.DataFrame({'Реальные значения': y_test, 'Предсказанные значения': y_pred_rf}).head(10)"
   ]
  },
  {
   "cell_type": "code",
   "execution_count": null,
   "metadata": {
    "scrolled": false
   },
   "outputs": [],
   "source": [
    "from sklearn import metrics\n",
    "print(metrics.classification_report(y_test, y_pred_rf))"
   ]
  },
  {
   "cell_type": "markdown",
   "metadata": {},
   "source": [
    "Точность и полнота выше, чем у одного дерева."
   ]
  },
  {
   "cell_type": "code",
   "execution_count": null,
   "metadata": {
    "scrolled": false
   },
   "outputs": [],
   "source": [
    "pd.DataFrame({'feature': X.columns,\n",
    "              'importance': model_rf.feature_importances_}).sort_values('importance', ascending = False)"
   ]
  },
  {
   "cell_type": "code",
   "execution_count": null,
   "metadata": {},
   "outputs": [],
   "source": [
    "pd.Series(model_rf.feature_importances_, index = X.columns).nlargest(6).plot(kind = 'barh')"
   ]
  },
  {
   "cell_type": "code",
   "execution_count": null,
   "metadata": {},
   "outputs": [],
   "source": [
    "# Предсказание класса для новых элементов\n",
    "new_item = [2, 2, 4, 1]\n",
    "model_rf.predict([new_item])"
   ]
  },
  {
   "cell_type": "markdown",
   "metadata": {},
   "source": [
    "### Кейс \"Швейцарские банкноты\""
   ]
  },
  {
   "cell_type": "markdown",
   "metadata": {},
   "source": [
    "**Описание данных**\n",
    "\n",
    "Набор данных о поддельных и настоящих купюрах, а именно о размерах банкнот.\n",
    "\n",
    "Данные лежат в файле \"swiss_bank_notes.csv\"."
   ]
  },
  {
   "cell_type": "markdown",
   "metadata": {},
   "source": [
    "**Постановка задачи**"
   ]
  },
  {
   "cell_type": "markdown",
   "metadata": {},
   "source": [
    "Научиться по размерю купюр предсказывать настоящая купюра или фальшивая."
   ]
  },
  {
   "cell_type": "markdown",
   "metadata": {},
   "source": [
    "**Загрузка данных и их обработка**"
   ]
  },
  {
   "cell_type": "markdown",
   "metadata": {},
   "source": [
    "**Построение модели**"
   ]
  },
  {
   "cell_type": "markdown",
   "metadata": {},
   "source": [
    "<font color='blue'>**Задание 1.**</font>\n",
    "\n",
    "1. Выберите метрику качества\n",
    "2. Решите задачу тремя методами.\n",
    "3. Сравните результаты и выберите наилучшую модель."
   ]
  },
  {
   "cell_type": "markdown",
   "metadata": {},
   "source": [
    "### Кейс \"Предсказание доходов\""
   ]
  },
  {
   "cell_type": "markdown",
   "metadata": {},
   "source": [
    "**Описание данных**\n",
    "\n",
    "Даны результаты переписи населения.\n",
    "\n",
    "Полное описание факторов: https://archive.ics.uci.edu/ml/datasets/Adult"
   ]
  },
  {
   "cell_type": "markdown",
   "metadata": {},
   "source": [
    "**Постановка задачи**"
   ]
  },
  {
   "cell_type": "markdown",
   "metadata": {},
   "source": [
    "Нужно предсказать доход человека (больше $50000 или меньше) по результатам переписи населения.<br>\n",
    "\n",
    "Полное описание датасета: https://archive.ics.uci.edu/ml/datasets/Adult"
   ]
  },
  {
   "cell_type": "markdown",
   "metadata": {},
   "source": [
    "**Загрузка данных и их обработка**"
   ]
  },
  {
   "cell_type": "code",
   "execution_count": null,
   "metadata": {},
   "outputs": [],
   "source": [
    "columns = ['age', 'workclass', 'fnlwgt', 'education', 'education-num',\n",
    "           'marital-status', 'occupation', 'relationship', 'race', 'sex',\n",
    "           'capital-gain', 'capital-loss', 'hours-per-week', 'native-country', 'income']\n",
    "df = pd.read_csv('adult.data', header = None, names = columns, na_values = ' ?')\n",
    "\n",
    "# Удаляем колонку education (потому что есть уже закодированная колонка education-num)\n",
    "df = df.drop('education', axis = 1)\n",
    "\n",
    "# Кодируем отклик в бинарные значения\n",
    "df['income'] = df['income'].map({' <=50K': 0, ' >50K': 1})\n",
    "\n",
    "# удаляем строки с NA значениями\n",
    "df = df.dropna()\n",
    "\n",
    "test = pd.read_csv('adult.test', header = None, names= columns, na_values=' ?', skiprows=1)\n",
    "test = test.drop('education', axis=1)\n",
    "test['income'] = test['income'].map({' <=50K.': 0, ' >50K.': 1})\n",
    "test = test.dropna()"
   ]
  },
  {
   "cell_type": "code",
   "execution_count": null,
   "metadata": {},
   "outputs": [],
   "source": [
    "df.head()"
   ]
  },
  {
   "cell_type": "code",
   "execution_count": null,
   "metadata": {},
   "outputs": [],
   "source": [
    "# Посчитаем распределение классов в отклике\n",
    "df['income'].value_counts(normalize = True)"
   ]
  },
  {
   "cell_type": "code",
   "execution_count": null,
   "metadata": {},
   "outputs": [],
   "source": [
    "# Датасет уже разбит на train/test\n",
    "# Бинаризуем категориальные признаки (эта операция ещё называется one-hot encoding)\n",
    "\n",
    "X_train = pd.get_dummies(df).drop('income', axis = 1)\n",
    "y_train = df['income']\n",
    "\n",
    "X_test = pd.get_dummies(test).drop('income', axis = 1)\n",
    "y_test = test['income']"
   ]
  },
  {
   "cell_type": "code",
   "execution_count": null,
   "metadata": {},
   "outputs": [],
   "source": [
    "X_test.head()"
   ]
  },
  {
   "cell_type": "markdown",
   "metadata": {},
   "source": [
    "One-hot encoding мы сделали с помощью pd.get_dummies: <br>\n",
    "https://pandas.pydata.org/pandas-docs/stable/reference/api/pandas.get_dummies.html\n",
    "\n",
    "Есть еще второй способ: <br>\n",
    "https://scikit-learn.org/stable/modules/generated/sklearn.preprocessing.OneHotEncoder.html"
   ]
  },
  {
   "cell_type": "markdown",
   "metadata": {},
   "source": [
    "После бинаризации категориальных признаков окажется, что в обучающем множестве содержится на одну колонку больше. Это от того, что в тестовой выборке нет ни одного представителя Голландии в колонке ```native-county```."
   ]
  },
  {
   "cell_type": "code",
   "execution_count": null,
   "metadata": {},
   "outputs": [],
   "source": [
    "print (len(X_train.columns))\n",
    "print (len(X_test.columns))\n",
    "\n",
    "# Приводим множество названий колонок к типу set, находим разность двух множеств\n",
    "print (set(X_train.columns) - set(X_test.columns))\n",
    "print (set(X_test.columns) - set(X_train.columns))"
   ]
  },
  {
   "cell_type": "markdown",
   "metadata": {},
   "source": [
    "Чтобы полечить это, создадим полный список всех колонок (из трейна и из теста) и переиндексируем колонки в соответствии с этим списком. В результате в колонке ```native-country_ Holand-Netherlands``` в тесте появятся NaN-значения, которые мы заменим на нули."
   ]
  },
  {
   "cell_type": "code",
   "execution_count": null,
   "metadata": {},
   "outputs": [],
   "source": [
    "columns = set(X_train.columns) | set(X_test.columns)\n",
    "X_train = X_train.reindex(columns = columns).fillna(0)\n",
    "X_test = X_test.reindex(columns = columns).fillna(0)"
   ]
  },
  {
   "cell_type": "markdown",
   "metadata": {},
   "source": [
    "Теперь колонки в трейне и в тесте должны быть идентичными. В том числе идентичным должен быть и порядок колонок. На всякий случай убедимся в этом. "
   ]
  },
  {
   "cell_type": "code",
   "execution_count": null,
   "metadata": {},
   "outputs": [],
   "source": [
    "# Команда all проверяет, все ли значения из входного списка равны True\n",
    "all(X_train.columns == X_test.columns)"
   ]
  },
  {
   "cell_type": "markdown",
   "metadata": {},
   "source": [
    "**Построение модели**"
   ]
  },
  {
   "cell_type": "markdown",
   "metadata": {},
   "source": [
    "<font color='blue'>**Задание 2.**</font>\n",
    "\n",
    "1. Выберите метрику качества\n",
    "2. Решите задачу тремя методами.\n",
    "3. Сравните результаты и выберите наилучшую модель."
   ]
  }
 ],
 "metadata": {
  "kernelspec": {
   "display_name": "Python 3 (ipykernel)",
   "language": "python",
   "name": "python3"
  },
  "language_info": {
   "codemirror_mode": {
    "name": "ipython",
    "version": 3
   },
   "file_extension": ".py",
   "mimetype": "text/x-python",
   "name": "python",
   "nbconvert_exporter": "python",
   "pygments_lexer": "ipython3",
   "version": "3.9.7"
  }
 },
 "nbformat": 4,
 "nbformat_minor": 2
}
